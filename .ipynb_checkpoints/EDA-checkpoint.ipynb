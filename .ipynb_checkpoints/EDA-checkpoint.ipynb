{
 "cells": [
  {
   "cell_type": "code",
   "execution_count": null,
   "id": "english-journalist",
   "metadata": {},
   "outputs": [],
   "source": [
    "import os\n",
    "import json\n",
    "import cv2\n",
    "import matplotlib.pyplot as plt"
   ]
  },
  {
   "cell_type": "code",
   "execution_count": null,
   "id": "endless-manhattan",
   "metadata": {},
   "outputs": [],
   "source": [
    "pres_image = 'data/public_train/prescription/image'\n",
    "pres_label = 'data/public_train/prescription/label'\n",
    "pill_image = 'data/public_train/pill/image'\n",
    "pill_label = 'data/public_train/pill/label'"
   ]
  },
  {
   "cell_type": "code",
   "execution_count": null,
   "id": "pending-switch",
   "metadata": {},
   "outputs": [],
   "source": [
    "with open('public_train/pill_pres_map.json', 'r') as fr:\n",
    "    data = json.load(fr)\n",
    "print(len(data))"
   ]
  },
  {
   "cell_type": "code",
   "execution_count": null,
   "id": "strange-german",
   "metadata": {},
   "outputs": [],
   "source": [
    "print(data[0]['pres'])\n",
    "with open(os.path.join(pres_label, data[0]['pres']), 'r') as fr:\n",
    "    pres_info = json.load(fr)"
   ]
  },
  {
   "cell_type": "code",
   "execution_count": null,
   "id": "classified-annual",
   "metadata": {},
   "outputs": [],
   "source": [
    "pres_info"
   ]
  },
  {
   "cell_type": "code",
   "execution_count": null,
   "id": "cellular-tenant",
   "metadata": {},
   "outputs": [],
   "source": [
    "visualize('public_train/prescription/image', num=0)"
   ]
  },
  {
   "cell_type": "code",
   "execution_count": null,
   "id": "naked-marsh",
   "metadata": {},
   "outputs": [],
   "source": [
    "print(data[0]['pill'])\n",
    "for i in range(len(data[0]['pill'])):\n",
    "    with open(os.path.join(pill_label, data[0]['pill'][i]), 'r') as fr:\n",
    "        pill_info = json.load(fr)\n",
    "        print(pill_info)"
   ]
  },
  {
   "cell_type": "code",
   "execution_count": null,
   "id": "opened-morocco",
   "metadata": {},
   "outputs": [],
   "source": [
    "def visualize(directory, num=20):\n",
    "    for idx, filename in enumerate(natsorted(os.listdir(directory))):\n",
    "        filepath = os.path.join(directory, filename)\n",
    "        print(filename)\n",
    "        img = cv2.imread(filepath)\n",
    "        img = cv2.cvtColor(img, cv2.COLOR_BGR2RGB)\n",
    "        plt.figure(figsize=(10, 10))\n",
    "        plt.imshow(img)\n",
    "        plt.show()\n",
    "        if idx == num:\n",
    "            break\n",
    "    "
   ]
  },
  {
   "cell_type": "code",
   "execution_count": null,
   "id": "apart-administrator",
   "metadata": {},
   "outputs": [],
   "source": [
    "data[0]"
   ]
  },
  {
   "cell_type": "code",
   "execution_count": null,
   "id": "familiar-thunder",
   "metadata": {},
   "outputs": [],
   "source": [
    "def visualize_pres(sample):\n",
    "    all_drug = []\n",
    "    pres_name = sample['pres']\n",
    "    pill_name = sample['pill']\n",
    "    pres_imgname = pres_name.replace('.json', '.jpg')\n",
    "    pres_imgpath = os.path.join(pres_image, pres_imgname)\n",
    "    print(pres_imgpath)\n",
    "    with open(os.path.join(pres_label, pres_name), 'r') as fr:\n",
    "        pres_infos = json.load(fr)\n",
    "        for pres_info in pres_infos:\n",
    "            label = pres_info['label']\n",
    "            if label == 'drugname':\n",
    "                drug_id = pres_info['mapping']\n",
    "                drug_name = pres_info['text']\n",
    "                all_drug.append([drug_id, drug_name])\n",
    "    return all_drug"
   ]
  },
  {
   "cell_type": "code",
   "execution_count": null,
   "id": "improved-disclaimer",
   "metadata": {},
   "outputs": [],
   "source": [
    "drug = visualize_pres(data[0])\n",
    "print(drug)\n",
    "drug_info = dict()\n",
    "for idx in range(len(data)):\n",
    "    drugs = visualize_pres(data[idx])"
   ]
  },
  {
   "cell_type": "code",
   "execution_count": null,
   "id": "through-dance",
   "metadata": {},
   "outputs": [],
   "source": [
    "visualize('public_train/prescription/image')"
   ]
  },
  {
   "cell_type": "code",
   "execution_count": null,
   "id": "czech-playback",
   "metadata": {},
   "outputs": [],
   "source": [
    "with open('data/public_train/pill/label/VAIPE_P_730_5.json', 'r') as fr:\n",
    "    pill_infos = json.load(fr)\n",
    "print(pill_infos)"
   ]
  },
  {
   "cell_type": "code",
   "execution_count": null,
   "id": "entitled-prison",
   "metadata": {},
   "outputs": [],
   "source": [
    "for idx, pill_info in enumerate(pill_infos):\n",
    "    x = pill_info['x']\n",
    "    y = pill_info['y']\n",
    "    h = pill_info['h']\n",
    "    w = pill_info['w']\n",
    "    pill_id = pill_info['label']\n",
    "    crop = img[y:y+h, x:x+w]\n",
    "    cv2.imwrite('data/ex/{}.jpg'.format(idx), crop)\n",
    "    # cv2.rectangle(img, (x, y), (x+w, y+h), (0, 255, 0), thickness=2)\n",
    "plt.figure(figsize=(10, 10))\n",
    "plt.imshow(img)\n",
    "plt.show()"
   ]
  },
  {
   "cell_type": "code",
   "execution_count": null,
   "id": "embedded-prairie",
   "metadata": {},
   "outputs": [],
   "source": [
    "with open('data/drug_dict.json', 'r') as fr:\n",
    "    datas = json.load(fr)\n",
    "print(datas[0].keys())"
   ]
  },
  {
   "cell_type": "code",
   "execution_count": null,
   "id": "sized-system",
   "metadata": {},
   "outputs": [],
   "source": [
    "for data in datas:\n",
    "    print('{}============{}'.format(data['drug_id'], data['drug_name']))"
   ]
  },
  {
   "cell_type": "code",
   "execution_count": null,
   "id": "opponent-diamond",
   "metadata": {},
   "outputs": [],
   "source": [
    "merge_drug = dict()\n",
    "for data in datas:\n",
    "    if data['drug_id'] not in merge_drug.keys():\n",
    "        merge_drug[data['drug_id']] = []\n",
    "    merge_drug[data['drug_id']].append(data['drug_name'])"
   ]
  },
  {
   "cell_type": "code",
   "execution_count": null,
   "id": "intelligent-welsh",
   "metadata": {},
   "outputs": [],
   "source": [
    "merge_drug[61]"
   ]
  },
  {
   "cell_type": "code",
   "execution_count": null,
   "id": "front-philippines",
   "metadata": {},
   "outputs": [],
   "source": [
    "import numpy as np\n",
    "pres_map = 'data/drug.npy'\n",
    "pres_map = np.load(pres_map, allow_pickle=True)\n",
    "pres_map"
   ]
  },
  {
   "cell_type": "code",
   "execution_count": null,
   "id": "intelligent-internship",
   "metadata": {},
   "outputs": [],
   "source": [
    "img_test = 'data/public_test/prescription/image/VAIPE_P_TEST_159.png'\n",
    "img = cv2.imread(img_test)\n",
    "plt.figure(figsize=(10, 10))\n",
    "plt.imshow(img)\n",
    "plt.show()"
   ]
  },
  {
   "cell_type": "code",
   "execution_count": null,
   "id": "literary-feedback",
   "metadata": {
    "scrolled": true
   },
   "outputs": [],
   "source": [
    "list_drug = [29, 99, 61, 84]\n",
    "for id in list_drug:\n",
    "    print(merge_drug[id])\n",
    "    print('===============')"
   ]
  },
  {
   "cell_type": "code",
   "execution_count": null,
   "id": "demographic-delaware",
   "metadata": {},
   "outputs": [],
   "source": [
    "def visualize_pill_recog(folder_pill):\n",
    "    print(len(os.listdir(folder_pill)))\n",
    "    for idx, filename in enumerate(os.listdir(folder_pill)):\n",
    "        filepath = os.path.join(folder_pill, filename)\n",
    "        img = cv2.imread(filepath)\n",
    "        img = cv2.cvtColor(img, cv2.COLOR_RGB2BGR)\n",
    "        plt.imshow(img)\n",
    "        plt.show()\n",
    "        if idx == 20:\n",
    "            break"
   ]
  },
  {
   "cell_type": "code",
   "execution_count": null,
   "id": "proud-refund",
   "metadata": {},
   "outputs": [],
   "source": [
    "visualize_pill_recog('data/pill_recog/89')"
   ]
  },
  {
   "cell_type": "code",
   "execution_count": null,
   "id": "confirmed-minute",
   "metadata": {},
   "outputs": [],
   "source": [
    "visualize_pill_recog('data/pill_recog/99')"
   ]
  },
  {
   "cell_type": "code",
   "execution_count": null,
   "id": "radio-terrorism",
   "metadata": {},
   "outputs": [],
   "source": [
    "# tao yolo 1 class tu 107 class\n",
    "\n",
    "directory = 'data/pill_yolo_1class/labels'\n",
    "for filename in os.listdir(directory):\n",
    "    filepath = os.path.join(directory, filename)\n",
    "    all_info = ''\n",
    "    with open(filepath, 'r') as fr:\n",
    "        lines = fr.readlines()\n",
    "        for line in lines:\n",
    "            data = line.strip().split(' ')\n",
    "            data[0] = '0'\n",
    "            data = ' '.join(data) + '\\n'\n",
    "            all_info += data\n",
    "    with open(filepath, 'w') as fw:\n",
    "        fw.write(all_info)\n"
   ]
  },
  {
   "cell_type": "code",
   "execution_count": null,
   "id": "extensive-melbourne",
   "metadata": {},
   "outputs": [],
   "source": [
    "# split train, test yolo\n",
    "\n",
    "\n",
    "from random import shuffle\n",
    "directory = 'data/pill_yolo_1class/images'\n",
    "all_img_path = []\n",
    "for filename in os.listdir(directory):\n",
    "    filepath = os.path.join(directory, filename)\n",
    "    all_img_path.append(filepath)\n",
    "list_idx = np.arange(len(all_img_path))\n",
    "shuffle(list_idx)\n",
    "total = len(all_img_path)\n",
    "train_idx = []\n",
    "val_idx = []\n",
    "all_train_info = ''\n",
    "all_val_info = ''\n",
    "for idx in range(int(total * 0.9)):\n",
    "    all_train_info += '../../' + all_img_path[idx] + '\\n'\n",
    "for idx in range(int(total * 0.9), total):\n",
    "    all_val_info += '../../' + all_img_path[idx] + '\\n'\n",
    "with open('data/pill_yolo_1class/train.txt', 'w') as fw:\n",
    "    fw.write(all_train_info)\n",
    "with open('data/pill_yolo_1class/val.txt', 'w') as fw:\n",
    "    fw.write(all_val_info)"
   ]
  },
  {
   "cell_type": "code",
   "execution_count": null,
   "id": "hybrid-election",
   "metadata": {},
   "outputs": [],
   "source": [
    "pres_map_list = pres_map.tolist()\n",
    "pres_map_list['VAIPE_P_TEST_32']"
   ]
  },
  {
   "cell_type": "code",
   "execution_count": null,
   "id": "herbal-notification",
   "metadata": {},
   "outputs": [],
   "source": [
    "def visualize_rs(df, filename):\n",
    "    pill_in_img = df.index[df['image_name'] == filename].tolist()\n",
    "    filepath = os.path.join('data/public_test/pill/image', filename)\n",
    "    print(filepath)\n",
    "    img = cv2.imread(filepath)\n",
    "    img = cv2.cvtColor(img, cv2.COLOR_RGB2BGR)\n",
    "    for pill_id in pill_in_img:\n",
    "        pill_info = df.iloc[pill_id]\n",
    "        pill_id = pill_info['class_id']\n",
    "        xmin, ymin, xmax, ymax = pill_info['x_min'], pill_info['y_min'], pill_info['x_max'], pill_info['y_max']\n",
    "        cv2.rectangle(img, (xmin, ymin), (xmax, ymax), (0, 255, 0), 2)\n",
    "        cv2.putText(img, str(pill_id),(xmin, ymin), cv2.FONT_HERSHEY_SIMPLEX, 1, (255, 0, 0), 2, cv2.LINE_AA)\n",
    "    img = cv2.resize(img, (640, 640))\n",
    "    cv2.imshow('data/crop_rs/{}.jpg'.format(filename))\n",
    "    # plt.figure(figsize=(20, 20))\n",
    "    # plt.imshow(img)\n",
    "    # plt.show()"
   ]
  },
  {
   "cell_type": "code",
   "execution_count": null,
   "id": "gothic-northwest",
   "metadata": {},
   "outputs": [],
   "source": [
    "path = 'data/public_test/prescription/image/VAIPE_P_TEST_171.png'\n",
    "img = cv2.imread(path)\n",
    "plt.figure(figsize=(10, 10))\n",
    "plt.imshow(img)"
   ]
  },
  {
   "cell_type": "code",
   "execution_count": null,
   "id": "starting-breach",
   "metadata": {},
   "outputs": [],
   "source": [
    "import pandas as pd\n",
    "from natsort import natsorted\n",
    "df = pd.read_csv('submission/1_class_no_107.csv')\n",
    "# filename = 'VAIPE_P_171_16.jpg'\n",
    "# pill_in_res = pres_map['VAIPE_P_TEST_171']\n",
    "# print(pill_in_res)\n",
    "for idx, filename in enumerate(natsorted(os.listdir('data/public_test/pill/image'))):\n",
    "    visualize_rs(df, filename)\n",
    "    if idx == 10:\n",
    "        break"
   ]
  },
  {
   "cell_type": "code",
   "execution_count": null,
   "id": "opposed-median",
   "metadata": {},
   "outputs": [],
   "source": [
    "path = 'data/public_test/pill/image/VAIPE_P_171_23.jpg'\n",
    "img = cv2.imread(path)\n",
    "img = img[:, :, ::-1]\n",
    "plt.figure(figsize=(10, 10))\n",
    "plt.imshow(img)"
   ]
  },
  {
   "cell_type": "code",
   "execution_count": null,
   "id": "electric-diploma",
   "metadata": {},
   "outputs": [],
   "source": [
    "df = pd.read_csv('src/results.csv')\n",
    "print(len(df))\n",
    "num = 0\n",
    "for idx in range(len(df)):\n",
    "    x_min = df.loc[idx, 'x_min']\n",
    "    y_min = df.loc[idx, 'y_min']\n",
    "    x_max = df.loc[idx, 'x_max']\n",
    "    y_max = df.loc[idx, 'y_max']\n",
    "    bbox_width = x_max - x_min\n",
    "    bbox_height = y_max - y_min\n",
    "    df.loc[idx, 'x_min'] = int(x_min+0.01*bbox_width)\n",
    "    df.loc[idx, 'x_max'] = int(x_max-0.01*bbox_width)\n",
    "    df.loc[idx, 'y_min'] = int(y_min+0.01*bbox_width)\n",
    "    df.loc[idx, 'y_max'] = int(y_max-0.01*bbox_width)\n",
    "df.to_csv('src/trick.csv')"
   ]
  },
  {
   "cell_type": "code",
   "execution_count": null,
   "id": "packed-reception",
   "metadata": {},
   "outputs": [],
   "source": [
    "df = pd.read_csv('submission/6585_combine6495_arcface.csv')\n",
    "df1 = pd.read_csv('src/pp_csv/results.csv')\n",
    "cnt = 0\n",
    "cnt_107 = 0\n",
    "list_img = []\n",
    "list_bbox = []\n",
    "list_id = []\n",
    "for idx in range(len(df1)):\n",
    "    if df1.loc[idx, 'class_id'] != 107 and df1.loc[idx, 'class_id'] != df.loc[idx, 'class_id']:\n",
    "        print(df1.iloc[idx])\n",
    "        print('-----------------gt-------', df.loc[idx, 'class_id'])\n",
    "        print('...............')\n",
    "        list_img.append(df.loc[idx, 'image_name'])\n",
    "        x_min = df.loc[idx, 'x_min']\n",
    "        y_min = df.loc[idx, 'y_min']\n",
    "        x_max = df.loc[idx, 'x_max']\n",
    "        y_max = df.loc[idx, 'y_max']\n",
    "        list_bbox.append([x_min, y_min, x_max, y_max])\n",
    "        list_id.append(df1.loc[idx, 'class_id'])\n",
    "        cnt += 1\n",
    "    if df1.loc[idx, 'class_id'] == 107:\n",
    "        cnt_107 += 1\n",
    "print(cnt)\n",
    "print(cnt_107)"
   ]
  },
  {
   "cell_type": "code",
   "execution_count": null,
   "id": "fabulous-softball",
   "metadata": {},
   "outputs": [],
   "source": [
    "for (imgname, box, id) in zip(list_img, list_bbox, list_id):\n",
    "    img = cv2.imread('data/public_test/pill/image/{}'.format(imgname))\n",
    "    print(imgname)\n",
    "    print(id)\n",
    "    img = cv2.cvtColor(img, cv2.COLOR_BGR2RGB)\n",
    "    x_min, y_min, x_max, y_max = box[0], box[1], box[2], box[3]\n",
    "    img = cv2.rectangle(img, (x_min, y_min), (x_max, y_max), (0, 255, 0), 2)\n",
    "    plt.figure(figsize=(10, 10))\n",
    "    plt.imshow(img)\n",
    "    plt.show()\n",
    "            # plt.show()\n",
    "            # list_box.append([x_min, y_min, x_max, y_max])\n",
    "            # num += 1\n",
    "\n"
   ]
  },
  {
   "cell_type": "code",
   "execution_count": null,
   "id": "modified-garlic",
   "metadata": {},
   "outputs": [],
   "source": [
    "num = 0\n",
    "list_path = []\n",
    "list_box = []\n",
    "list_conf = []\n",
    "# list_img = ['VAIPE_P_3_9', 'VAIPE_P_7_12', 'VAIPE_P_32_38', 'VAIPE_P_36_5', 'VAIPE_P_42_1', 'VAIPE_P_49_0', 'VAIPE_P_57_11', 'VAIPE_P_57_12', 'VAIPE_P_75_2', 'VAIPE_P_84_0', 'VAIPE_P_85_10', 'VAIPE_P_90_1', 'VAIPE_P_103_4', 'VAIPE_P_106_4', 'VAIPE_P_110_10', 'VAIPE_P_160_5', 'VAIPE_P_166_7', 'VAIPE_P_169_11', 'VAIPE_P_170_2']\n",
    "for imgname in list_img:\n",
    "    img = cv2.imread('data/public_test/pill/image/{}.jpg'.format(imgname))\n",
    "    img = cv2.cvtColor(img, cv2.COLOR_BGR2RGB)\n",
    "    for idx in range(len(df)):\n",
    "        if df.loc[idx, 'image_name'] == imgname + '.jpg':\n",
    "            conf = df.loc[idx, 'confidence_score']\n",
    "            x_min = df.loc[idx, 'x_min']\n",
    "            y_min = df.loc[idx, 'y_min']\n",
    "            x_max = df.loc[idx, 'x_max']\n",
    "            y_max = df.loc[idx, 'y_max']\n",
    "            img = cv2.rectangle(img, (x_min, y_min), (x_max, y_max), (0, 255, 0), 2)\n",
    "            img = cv2.putText(img, str(conf), (x_min, y_min), cv2.FONT_HERSHEY_SIMPLEX, 1, (255, 0, 0), 2, cv2.LINE_AA)\n",
    "    plt.figure(figsize=(10, 10))\n",
    "    plt.imshow(img)\n",
    "    plt.show()\n",
    "            # plt.show()\n",
    "            # list_box.append([x_min, y_min, x_max, y_max])\n",
    "            # num += 1\n",
    "\n"
   ]
  },
  {
   "cell_type": "code",
   "execution_count": null,
   "id": "wrapped-creek",
   "metadata": {},
   "outputs": [],
   "source": [
    "img = cv2.imread('data/public_test/pill/image/VAIPE_P_3_9.jpg')\n",
    "img = cv2.cvtColor(img, cv2.COLOR_BGR2RGB)\n",
    "img = cv2.rectangle(img, (1381, 2353), (1714, 3252), (0, 255, 0), 2)\n",
    "plt.figure(figsize=(10, 10))\n",
    "plt.imshow(img)\n",
    "plt.show()"
   ]
  },
  {
   "cell_type": "code",
   "execution_count": null,
   "id": "sought-entry",
   "metadata": {},
   "outputs": [],
   "source": [
    "from shutil import copyfile\n",
    "for path, box, conf in zip(list_path, list_box, list_conf):\n",
    "    gt_path = os.path.join('data/public_test/pill/image', path)\n",
    "    copyfile(gt_path, os.path.join('src/test', path))\n",
    "    \"\"\"\n",
    "    print(gt_path)\n",
    "    print(conf)\n",
    "    img = cv2.imread(gt_path)\n",
    "    img = cv2.cvtColor(img, cv2.COLOR_BGR2RGB)\n",
    "    cv2.rectangle(img, (box[0], box[1]), (box[2], box[3]), (0, 255, 0), 2)\n",
    "    plt.figure(figsize=(10, 10))\n",
    "    plt.imshow(img)\n",
    "    plt.show()\n",
    "    \"\"\""
   ]
  },
  {
   "cell_type": "code",
   "execution_count": null,
   "id": "ultimate-edition",
   "metadata": {},
   "outputs": [],
   "source": [
    "pres_map_list['VAIPE_P_TEST_0']"
   ]
  },
  {
   "cell_type": "code",
   "execution_count": null,
   "id": "incomplete-child",
   "metadata": {
    "scrolled": false
   },
   "outputs": [],
   "source": [
    "path = 'data/public_test/prescription/image/VAIPE_P_TEST_32.png'\n",
    "img = cv2.imread(path)\n",
    "img = img[:, :, ::-1]\n",
    "plt.figure(figsize=(10, 10))\n",
    "plt.imshow(img)"
   ]
  },
  {
   "cell_type": "code",
   "execution_count": null,
   "id": "welsh-affairs",
   "metadata": {},
   "outputs": [],
   "source": [
    "print(merge_drug[26])\n",
    "print('====')"
   ]
  },
  {
   "cell_type": "code",
   "execution_count": null,
   "id": "conceptual-floating",
   "metadata": {},
   "outputs": [],
   "source": [
    "img = cv2.imread('data/public_test/pill/image/VAIPE_P_32_10.jpg')\n",
    "box = [1146,1514,1807,2091]\n",
    "img = img[box[1]:box[3], box[0]:box[2]]\n",
    "print(img.shape)\n",
    "cv2.imwrite('src/test/xx.jpg', img)"
   ]
  },
  {
   "cell_type": "code",
   "execution_count": null,
   "id": "coral-groove",
   "metadata": {},
   "outputs": [],
   "source": [
    "df = pd.read_csv('submission/6495_conf0.45_eff_convnext.csv')\n",
    "df1 = pd.read_csv('src/pp_csv/results.csv')\n",
    "cnt = 0\n",
    "cnt_107 = 0\n",
    "list_img = []\n",
    "list_bbox = []\n",
    "list_id = []\n",
    "cnt = 0\n",
    "for idx in range(len(df1)):\n",
    "    if df.loc[idx, 'class_id'] == 107 and df1.loc[idx, 'class_id'] != df.loc[idx, 'class_id']:\n",
    "        df.loc[idx, 'class_id'] = df1.loc[idx, 'class_id']\n",
    "        cnt += 1\n",
    "print(cnt)\n",
    "df.to_csv('src/pp_csv/ensemble.csv', index=False)"
   ]
  },
  {
   "cell_type": "code",
   "execution_count": null,
   "id": "consecutive-union",
   "metadata": {},
   "outputs": [],
   "source": [
    "cnt = 0\n",
    "for idx in range(len(df1)):\n",
    "    if df.loc[idx, 'class_id'] == 107:\n",
    "        cnt += 1\n",
    "print(cnt)"
   ]
  },
  {
   "cell_type": "code",
   "execution_count": null,
   "id": "minimal-favor",
   "metadata": {},
   "outputs": [],
   "source": [
    "df = pd.read_csv('src/pp_csv/ensemble.csv')\n",
    "df.head()"
   ]
  },
  {
   "cell_type": "code",
   "execution_count": null,
   "id": "orange-notice",
   "metadata": {},
   "outputs": [],
   "source": [
    "for idx in range(len(df)):\n",
    "    if df.loc[idx, 'class_id'] != 107:\n",
    "        df.loc[idx, 'confidence_score'] = 0.99\n",
    "df.to_csv('src/pp_csv/trick.csv')\n",
    "df.head()"
   ]
  },
  {
   "cell_type": "code",
   "execution_count": null,
   "id": "urban-boring",
   "metadata": {},
   "outputs": [],
   "source": []
  }
 ],
 "metadata": {
  "kernelspec": {
   "display_name": "Python 3",
   "language": "python",
   "name": "python3"
  },
  "language_info": {
   "codemirror_mode": {
    "name": "ipython",
    "version": 3
   },
   "file_extension": ".py",
   "mimetype": "text/x-python",
   "name": "python",
   "nbconvert_exporter": "python",
   "pygments_lexer": "ipython3",
   "version": "3.6.13"
  }
 },
 "nbformat": 4,
 "nbformat_minor": 5
}
